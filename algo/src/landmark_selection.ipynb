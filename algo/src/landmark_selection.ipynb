{
 "cells": [
  {
   "cell_type": "code",
   "execution_count": 14,
   "metadata": {},
   "outputs": [],
   "source": [
    "import h3\n",
    "from sklearn.cluster import DBSCAN\n",
    "import numpy as np\n",
    "\n",
    "class LandmarkPriority:\n",
    "\n",
    "    def __init__(self, hex_resolution=4):\n",
    "        self.hex_resolution = hex_resolution\n",
    "\n",
    "    def get_hexagons(self, lat, lon):\n",
    "        h3_index = h3.geo_to_h3(lat, lon, self.hex_resolution)\n",
    "        return h3.k_ring(h3_index, 1)\n",
    "\n",
    "    def cluster_landmarks(self, landmarks):\n",
    "        coords = np.array([(landmark['lat'], landmark['lon']) for landmark in landmarks])\n",
    "        # coords = landmarks_df[['lat', 'lon']].values  # Extract only lat and lon columns as a numpy array\n",
    "        clustering = DBSCAN(eps=0.005, min_samples=5).fit(coords)\n",
    "        labels = clustering.labels_\n",
    "        return labels\n",
    "\n",
    "    def rank_clusters(self, labels):\n",
    "        unique, counts = np.unique(labels, return_counts=True)\n",
    "        cluster_counts = dict(zip(unique, counts))\n",
    "        # Sort clusters by size\n",
    "        sorted_clusters = sorted(cluster_counts.items(), key=lambda x: x[1], reverse=True)\n",
    "        return sorted_clusters\n",
    "\n",
    "    def select_priority_landmark(self, landmarks, labels):\n",
    "        sorted_clusters = self.rank_clusters(labels)\n",
    "        top_cluster_label = sorted_clusters[0][0]\n",
    "        top_cluster_landmarks = [landmarks[i] for i in range(len(labels)) if labels[i] == top_cluster_label]\n",
    "\n",
    "        # Prioritization logic\n",
    "        priority_order = [\"temple\", \"tourist_spot\", \"bus_stop\", \"government_building\", \"market\", \"school\"]\n",
    "        for priority in priority_order:\n",
    "            for landmark in top_cluster_landmarks:\n",
    "                if landmark['type'] == priority:\n",
    "                    return landmark\n",
    "\n",
    "        # In case no landmark matches the prioritization logic\n",
    "        return top_cluster_landmarks[0]\n",
    "\n",
    "    def get_priority_landmark_for_hex(self, lat, lon, landmarks):\n",
    "        hexagons = self.get_hexagons(lat, lon)\n",
    "        landmarks_in_hex = [landmark for landmark in landmarks if h3.geo_to_h3(landmark['lat'], landmark['lon'], self.hex_resolution) in hexagons]\n",
    "        if not landmarks_in_hex:\n",
    "            return None\n",
    "        labels = self.cluster_landmarks(landmarks_in_hex)\n",
    "        priority_landmark = self.select_priority_landmark(landmarks_in_hex, labels)\n",
    "        return priority_landmark"
   ]
  },
  {
   "cell_type": "code",
   "execution_count": 15,
   "metadata": {},
   "outputs": [],
   "source": [
    "import pandas as pd\n",
    "\n",
    "landmarks = pd.read_csv('landmarks_clean.csv')\n",
    "landmarks = landmarks[[\"tags_name\", \"lat\", \"lon\", \"tags_amenity\"]]\n",
    "landmarks.columns = [\"name\", \"lat\", \"lon\", \"type\"]\n",
    "\n",
    "landmarks_dict = landmarks.to_dict('records')"
   ]
  },
  {
   "cell_type": "code",
   "execution_count": 16,
   "metadata": {},
   "outputs": [
    {
     "data": {
      "text/plain": [
       "494"
      ]
     },
     "execution_count": 16,
     "metadata": {},
     "output_type": "execute_result"
    }
   ],
   "source": [
    "len(landmarks_dict)"
   ]
  },
  {
   "cell_type": "code",
   "execution_count": 19,
   "metadata": {},
   "outputs": [],
   "source": [
    "destination_home_lat = 27.7\n",
    "destination_home_lon = 85.3\n",
    "\n",
    "selector = LandmarkPriority()\n",
    "priority_landmark = selector.get_priority_landmark_for_hex(destination_home_lat, destination_home_lon, landmarks_dict)\n"
   ]
  },
  {
   "cell_type": "code",
   "execution_count": 24,
   "metadata": {},
   "outputs": [
    {
     "name": "stdout",
     "output_type": "stream",
     "text": [
      "नेपाल_बनेपा_पोलिटेक्निक_संस्थान\n"
     ]
    }
   ],
   "source": [
    "print(\"_\".join(i.strip() for i in priority_landmark[\"name\"].split(\" \")))"
   ]
  },
  {
   "cell_type": "code",
   "execution_count": null,
   "metadata": {},
   "outputs": [],
   "source": []
  },
  {
   "cell_type": "code",
   "execution_count": null,
   "metadata": {},
   "outputs": [],
   "source": []
  }
 ],
 "metadata": {
  "kernelspec": {
   "display_name": "base",
   "language": "python",
   "name": "python3"
  },
  "language_info": {
   "codemirror_mode": {
    "name": "ipython",
    "version": 3
   },
   "file_extension": ".py",
   "mimetype": "text/x-python",
   "name": "python",
   "nbconvert_exporter": "python",
   "pygments_lexer": "ipython3",
   "version": "3.9.12"
  },
  "orig_nbformat": 4
 },
 "nbformat": 4,
 "nbformat_minor": 2
}
