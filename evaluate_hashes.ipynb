{
 "cells": [
  {
   "cell_type": "markdown",
   "metadata": {},
   "source": [
    "# Field Testing Simulation and Metrics Evaluation\n",
    "\n",
    "This notebook simulates field testing for routing optimization, evaluates navigation performance, and generates synthetic feedback. The workflow includes:\n",
    "\n",
    "1. Setting up the road network and geospatial data.\n",
    "2. Simulating field testing scenarios between buildings and landmarks.\n",
    "3. Generating synthetic feedback based on simulation results.\n",
    "4. Calculating performance metrics, such as travel time and success rate.\n",
    "\n",
    "The goal is to assess the effectiveness of routing optimizations and identify potential areas for improvement."
   ]
  },
  {
   "cell_type": "code",
   "execution_count": 1,
   "metadata": {},
   "outputs": [
    {
     "name": "stderr",
     "output_type": "stream",
     "text": [
      "/users/smalla/landmark-based-urban-navigation/venv/lib64/python3.9/site-packages/networkx/utils/backends.py:135: RuntimeWarning: networkx backend defined more than once: nx-loopback\n",
      "  backends.update(_get_backends(\"networkx.backends\"))\n"
     ]
    },
    {
     "name": "stdout",
     "output_type": "stream",
     "text": [
      "31019057 2169068697 {'osmid': 171603743, 'lanes': '3', 'ref': 'F26', 'name': 'चाबहिल-बौद्ध-जोरपाटी सडक', 'highway': 'primary', 'width': '14', 'oneway': False, 'reversed': True, 'length': np.float64(46.559), 'speed_kph': 35.5, 'travel_time': 4.7}\n",
      "31019057 724349918 {'osmid': 171603743, 'lanes': '3', 'ref': 'F26', 'name': 'चाबहिल-बौद्ध-जोरपाटी सडक', 'highway': 'primary', 'width': '14', 'oneway': False, 'reversed': False, 'length': np.float64(187.325), 'geometry': <LINESTRING (85.364 27.72, 85.363 27.72, 85.363 27.721, 85.362 27.721, 85.36...>, 'speed_kph': 35.5, 'travel_time': 19.0}\n",
      "31019057 5622458522 {'osmid': [588729673, 588729674, 588729675], 'highway': 'residential', 'oneway': False, 'reversed': False, 'length': np.float64(136.057), 'geometry': <LINESTRING (85.364 27.72, 85.364 27.721, 85.364 27.721, 85.364 27.721, 85.3...>, 'speed_kph': 24.5, 'travel_time': 20.0}\n",
      "31019141 2126598729 {'osmid': 4825630, 'oneway': True, 'lanes': '2', 'name': 'कान्ति पथ', 'highway': 'primary', 'width': '14', 'reversed': False, 'length': np.float64(159.45100000000002), 'geometry': <LINESTRING (85.314 27.707, 85.314 27.708, 85.314 27.708, 85.314 27.708)>, 'speed_kph': 35.5, 'travel_time': 16.2}\n",
      "31019141 1918201219 {'osmid': 218316959, 'name': 'Siddhidas Marg', 'highway': 'residential', 'oneway': False, 'reversed': False, 'length': np.float64(93.821), 'geometry': <LINESTRING (85.314 27.707, 85.314 27.707, 85.314 27.707, 85.313 27.707, 85....>, 'speed_kph': 24.5, 'travel_time': 13.8}\n"
     ]
    },
    {
     "name": "stderr",
     "output_type": "stream",
     "text": [
      "Simulating Field Testing: 100%|██████████| 149054/149054 [11:31:13<00:00,  3.59it/s]  \n"
     ]
    },
    {
     "name": "stdout",
     "output_type": "stream",
     "text": [
      "Simulation completed. Results saved to './data/simulated_field_testing_results.csv'.\n"
     ]
    }
   ],
   "source": [
    "import osmnx as ox\n",
    "import networkx as nx\n",
    "from tqdm import tqdm\n",
    "import pandas as pd\n",
    "from multiprocessing import Pool, cpu_count\n",
    "import itertools\n",
    "\n",
    "\n",
    "def heuristic(u, v, G):\n",
    "    \"\"\"\n",
    "    Custom heuristic function for A* algorithm that calculates great-circle distance.\n",
    "    Args:\n",
    "        u (int): Start node ID.\n",
    "        v (int): End node ID.\n",
    "        G (networkx.Graph): Road network graph.\n",
    "    Returns:\n",
    "        float: Great-circle distance between u and v.\n",
    "    \"\"\"\n",
    "    try:\n",
    "        u_lat, u_lon = G.nodes[u]['y'], G.nodes[u]['x']\n",
    "        v_lat, v_lon = G.nodes[v]['y'], G.nodes[v]['x']\n",
    "        return ox.distance.great_circle_vec(u_lat, u_lon, v_lat, v_lon)\n",
    "    except KeyError as e:\n",
    "        raise ValueError(f\"Missing node attributes for {u} or {v}: {e}\")\n",
    "\n",
    "\n",
    "def process_scenario(args):\n",
    "    \"\"\"\n",
    "    Process a single field-testing scenario for multiprocessing.\n",
    "    Args:\n",
    "        args (tuple): Tuple containing building, landmark, and the graph.\n",
    "    Returns:\n",
    "        dict: Result of the simulation scenario.\n",
    "    \"\"\"\n",
    "    building, random_landmark, G = args\n",
    "    try:\n",
    "        building_coords = (building['latitude'], building['longitude'])\n",
    "        landmark_coords = (random_landmark['lat'], random_landmark['lon'])\n",
    "\n",
    "        building_node = ox.distance.nearest_nodes(G, building_coords[1], building_coords[0])\n",
    "        landmark_node = ox.distance.nearest_nodes(G, landmark_coords[1], landmark_coords[0])\n",
    "\n",
    "        if not nx.has_path(G, building_node, landmark_node):\n",
    "            return {\n",
    "                'Building': f\"({building_coords[0]}, {building_coords[1]})\",\n",
    "                'Landmark': f\"({landmark_coords[0]}, {landmark_coords[1]}) - {random_landmark['tags_name']}\",\n",
    "                'Path Length': None,\n",
    "                'Travel Time (s)': None,\n",
    "                'Status': 'Failed',\n",
    "                'Error': 'No path exists between nodes'\n",
    "            }\n",
    "\n",
    "        path = nx.astar_path(\n",
    "            G,\n",
    "            building_node,\n",
    "            landmark_node,\n",
    "            heuristic=lambda u, v: heuristic(u, v, G),\n",
    "            weight='travel_time'\n",
    "        )\n",
    "        path_length = len(path)\n",
    "        # Corrected travel time computation\n",
    "        travel_time = sum(\n",
    "            G.get_edge_data(path[i], path[i+1])[0].get('travel_time', 0)  # Retrieve travel time for exact edge\n",
    "            for i in range(len(path)-1)\n",
    "        )\n",
    "\n",
    "        return {\n",
    "            'Building': f\"({building_coords[0]}, {building_coords[1]})\",\n",
    "            'Landmark': f\"({landmark_coords[0]}, {landmark_coords[1]}) - {random_landmark['tags_name']}\",\n",
    "            'Path Length': path_length,\n",
    "            'Travel Time (s)': travel_time,\n",
    "            'Status': 'Success'\n",
    "        }\n",
    "    except Exception as e:\n",
    "        return {\n",
    "            'Building': f\"({building['latitude']}, {building['longitude']})\",\n",
    "            'Landmark': f\"({random_landmark['lat']}, {random_landmark['lon']}) - {random_landmark['tags_name']}\",\n",
    "            'Path Length': None,\n",
    "            'Travel Time (s)': None,\n",
    "            'Status': 'Failed',\n",
    "            'Error': str(e)\n",
    "        }\n",
    "\n",
    "def simulate_field_testing(buildings_df, landmarks_df, G, num_scenarios=1000):\n",
    "    \"\"\"\n",
    "    Simulate field testing for landmark-based addressing and pathfinding using multiprocessing.\n",
    "    Args:\n",
    "        buildings_df (pd.DataFrame): Building data with latitude and longitude.\n",
    "        landmarks_df (pd.DataFrame): Landmark data with latitude, longitude, and names.\n",
    "        G (networkx.Graph): Road network graph.\n",
    "        num_scenarios (int): Number of test scenarios to simulate.\n",
    "    Returns:\n",
    "        pd.DataFrame: Results of simulated testing.\n",
    "    \"\"\"\n",
    "    if num_scenarios > len(buildings_df):\n",
    "        raise ValueError(\"Number of scenarios cannot exceed the number of buildings.\")\n",
    "    \n",
    "    if num_scenarios == 0:\n",
    "        building_sample = buildings_df\n",
    "        landmark_sample = landmarks_df\n",
    "        num_scenarios = len(buildings_df)\n",
    "    else:\n",
    "        building_sample = buildings_df.sample(num_scenarios)\n",
    "        landmark_sample = landmarks_df.sample(min(num_scenarios, len(landmarks_df)))\n",
    "\n",
    "    # Create arguments for multiprocessing\n",
    "    args = zip(building_sample.to_dict('records'), itertools.cycle(landmark_sample.to_dict('records')), itertools.repeat(G))\n",
    "\n",
    "    # Utilize all available CPUs\n",
    "    with Pool(cpu_count()) as pool:\n",
    "        results = list(tqdm(pool.imap(process_scenario, args), total=num_scenarios, desc=\"Simulating Field Testing\"))\n",
    "\n",
    "    return pd.DataFrame(results)\n",
    "\n",
    "\n",
    "# Load the graph and datasets\n",
    "G = ox.graph_from_place(\"Kathmandu, Nepal\", network_type=\"drive\")\n",
    "\n",
    "# Add speed and travel time attributes to the graph\n",
    "G = ox.add_edge_speeds(G)  # Add speed limits to edges\n",
    "G = ox.add_edge_travel_times(G)  # Calculate travel time based on speed and length\n",
    "\n",
    "# Validate the edge attributes (optional)\n",
    "for u, v, data in list(G.edges(data=True))[:5]:\n",
    "    print(u, v, data)\n",
    "\n",
    "# Load datasets\n",
    "buildings = pd.read_csv('./data/kathmandu_buildings.csv')\n",
    "landmarks = pd.read_csv('./data/cleaned_landmarks.csv')\n",
    "\n",
    "# Simulate field testing\n",
    "simulation_results = simulate_field_testing(buildings, landmarks, G, num_scenarios=0) # tweak the number of scenarios here if needed\n",
    "simulation_results.to_csv('./data/simulated_field_testing_results.csv', index=False)\n",
    "print(\"Simulation completed. Results saved to './data/simulated_field_testing_results.csv'.\")\n"
   ]
  },
  {
   "cell_type": "code",
   "execution_count": 2,
   "metadata": {},
   "outputs": [],
   "source": [
    "simulation_results.to_csv('simulated_field_testing_results.csv', index=False)\n"
   ]
  },
  {
   "cell_type": "code",
   "execution_count": 3,
   "metadata": {},
   "outputs": [
    {
     "name": "stdout",
     "output_type": "stream",
     "text": [
      "Number of buildings: 149054\n",
      "Number of landmarks: 7765\n",
      "Number of simulation results: 149054\n"
     ]
    },
    {
     "data": {
      "image/png": "[encoded data removed]",
      "text/plain": [
       "<Figure size 800x500 with 1 Axes>"
      ]
     },
     "metadata": {},
     "output_type": "display_data"
    },
    {
     "name": "stdout",
     "output_type": "stream",
     "text": [
      "\n",
      "Dataset Summary:\n",
      "              Dataset   Count\n",
      "0           Buildings  149054\n",
      "1           Landmarks    7765\n",
      "2  Simulation Results  149054\n"
     ]
    }
   ],
   "source": [
    "# Import necessary libraries\n",
    "import matplotlib.pyplot as plt\n",
    "import pandas as pd\n",
    "\n",
    "# Visualize the number of records in each dataset\n",
    "print(\"Number of buildings:\", len(buildings))\n",
    "print(\"Number of landmarks:\", len(landmarks))\n",
    "print(\"Number of simulation results:\", len(simulation_results))\n",
    "\n",
    "# Create a summary of dataset sizes\n",
    "summary_stats = {\n",
    "    \"Dataset\": [\"Buildings\", \"Landmarks\", \"Simulation Results\"],\n",
    "    \"Count\": [len(buildings), len(landmarks), len(simulation_results)]\n",
    "}\n",
    "\n",
    "# Plot dataset counts\n",
    "plt.figure(figsize=(8, 5))\n",
    "plt.bar(summary_stats[\"Dataset\"], summary_stats[\"Count\"], color='skyblue')\n",
    "plt.title(\"Dataset Record Counts\")\n",
    "plt.xlabel(\"Dataset\")\n",
    "plt.ylabel(\"Number of Records\")\n",
    "plt.show()\n",
    "\n",
    "# Display a table summarizing the dataset counts\n",
    "summary_table = pd.DataFrame(summary_stats)\n",
    "print(\"\\nDataset Summary:\")\n",
    "print(summary_table)\n"
   ]
  },
  {
   "cell_type": "code",
   "execution_count": 4,
   "metadata": {},
   "outputs": [
    {
     "name": "stdout",
     "output_type": "stream",
     "text": [
      "\n",
      "Preview of simulation results:\n"
     ]
    },
    {
     "data": {
      "text/html": [
       "<div>\n",
       "<style scoped>\n",
       "    .dataframe tbody tr th:only-of-type {\n",
       "        vertical-align: middle;\n",
       "    }\n",
       "\n",
       "    .dataframe tbody tr th {\n",
       "        vertical-align: top;\n",
       "    }\n",
       "\n",
       "    .dataframe thead th {\n",
       "        text-align: right;\n",
       "    }\n",
       "</style>\n",
       "<table border=\"1\" class=\"dataframe\">\n",
       "  <thead>\n",
       "    <tr style=\"text-align: right;\">\n",
       "      <th></th>\n",
       "      <th>Building</th>\n",
       "      <th>Landmark</th>\n",
       "      <th>Path Length</th>\n",
       "      <th>Travel Time (s)</th>\n",
       "      <th>Status</th>\n",
       "      <th>Error</th>\n",
       "    </tr>\n",
       "  </thead>\n",
       "  <tbody>\n",
       "    <tr>\n",
       "      <th>0</th>\n",
       "      <td>(27.7143297, 85.3284556)</td>\n",
       "      <td>(27.7231863, 85.322347) - Tranquility Spa</td>\n",
       "      <td>21.0</td>\n",
       "      <td>221.6</td>\n",
       "      <td>Success</td>\n",
       "      <td>NaN</td>\n",
       "    </tr>\n",
       "    <tr>\n",
       "      <th>1</th>\n",
       "      <td>(27.7314121, 85.3089192)</td>\n",
       "      <td>(27.6828328, 85.3098202) - Himalayan Spa and T...</td>\n",
       "      <td>75.0</td>\n",
       "      <td>766.9</td>\n",
       "      <td>Success</td>\n",
       "      <td>NaN</td>\n",
       "    </tr>\n",
       "    <tr>\n",
       "      <th>2</th>\n",
       "      <td>(27.6875866, 85.333969)</td>\n",
       "      <td>(27.6704066, 85.4276383) - Natural Oil Therapy</td>\n",
       "      <td>61.0</td>\n",
       "      <td>662.5</td>\n",
       "      <td>Success</td>\n",
       "      <td>NaN</td>\n",
       "    </tr>\n",
       "    <tr>\n",
       "      <th>3</th>\n",
       "      <td>(27.6866824, 85.3496051)</td>\n",
       "      <td>(27.7143297, 85.3284556) - Wunjala</td>\n",
       "      <td>45.0</td>\n",
       "      <td>676.6</td>\n",
       "      <td>Success</td>\n",
       "      <td>NaN</td>\n",
       "    </tr>\n",
       "    <tr>\n",
       "      <th>4</th>\n",
       "      <td>(27.7204045, 85.3316163)</td>\n",
       "      <td>(27.6782359, 85.3129059) - Mustang Thakali Kit...</td>\n",
       "      <td>67.0</td>\n",
       "      <td>562.7</td>\n",
       "      <td>Success</td>\n",
       "      <td>NaN</td>\n",
       "    </tr>\n",
       "    <tr>\n",
       "      <th>...</th>\n",
       "      <td>...</td>\n",
       "      <td>...</td>\n",
       "      <td>...</td>\n",
       "      <td>...</td>\n",
       "      <td>...</td>\n",
       "      <td>...</td>\n",
       "    </tr>\n",
       "    <tr>\n",
       "      <th>149049</th>\n",
       "      <td>(27.690034375181277, 85.32732208254703)</td>\n",
       "      <td>(27.6740863, 85.3555818) - The BBQ Station</td>\n",
       "      <td>74.0</td>\n",
       "      <td>586.5</td>\n",
       "      <td>Success</td>\n",
       "      <td>NaN</td>\n",
       "    </tr>\n",
       "    <tr>\n",
       "      <th>149050</th>\n",
       "      <td>(27.68971696348238, 85.337461132487)</td>\n",
       "      <td>(27.6741384, 85.3555846) - Dolakha Sailung Kha...</td>\n",
       "      <td>25.0</td>\n",
       "      <td>294.3</td>\n",
       "      <td>Success</td>\n",
       "      <td>NaN</td>\n",
       "    </tr>\n",
       "    <tr>\n",
       "      <th>149051</th>\n",
       "      <td>(27.698888520510604, 85.32691965939514)</td>\n",
       "      <td>(27.6742, 85.3555823) - Dolakhali Hotel and Re...</td>\n",
       "      <td>50.0</td>\n",
       "      <td>469.8</td>\n",
       "      <td>Success</td>\n",
       "      <td>NaN</td>\n",
       "    </tr>\n",
       "    <tr>\n",
       "      <th>149052</th>\n",
       "      <td>(27.702799598365747, 85.31212715759068)</td>\n",
       "      <td>(27.6743463, 85.3556147) - Lasso PhyaFulla Kav...</td>\n",
       "      <td>112.0</td>\n",
       "      <td>1022.7</td>\n",
       "      <td>Success</td>\n",
       "      <td>NaN</td>\n",
       "    </tr>\n",
       "    <tr>\n",
       "      <th>149053</th>\n",
       "      <td>(27.711064773962956, 85.34730973603638)</td>\n",
       "      <td>(27.6743798, 85.3556275) - Saru Shrestha Ramec...</td>\n",
       "      <td>64.0</td>\n",
       "      <td>724.7</td>\n",
       "      <td>Success</td>\n",
       "      <td>NaN</td>\n",
       "    </tr>\n",
       "  </tbody>\n",
       "</table>\n",
       "<p>149054 rows × 6 columns</p>\n",
       "</div>"
      ],
      "text/plain": [
       "                                       Building  \\\n",
       "0                      (27.7143297, 85.3284556)   \n",
       "1                      (27.7314121, 85.3089192)   \n",
       "2                       (27.6875866, 85.333969)   \n",
       "3                      (27.6866824, 85.3496051)   \n",
       "4                      (27.7204045, 85.3316163)   \n",
       "...                                         ...   \n",
       "149049  (27.690034375181277, 85.32732208254703)   \n",
       "149050     (27.68971696348238, 85.337461132487)   \n",
       "149051  (27.698888520510604, 85.32691965939514)   \n",
       "149052  (27.702799598365747, 85.31212715759068)   \n",
       "149053  (27.711064773962956, 85.34730973603638)   \n",
       "\n",
       "                                                 Landmark  Path Length  \\\n",
       "0               (27.7231863, 85.322347) - Tranquility Spa         21.0   \n",
       "1       (27.6828328, 85.3098202) - Himalayan Spa and T...         75.0   \n",
       "2          (27.6704066, 85.4276383) - Natural Oil Therapy         61.0   \n",
       "3                      (27.7143297, 85.3284556) - Wunjala         45.0   \n",
       "4       (27.6782359, 85.3129059) - Mustang Thakali Kit...         67.0   \n",
       "...                                                   ...          ...   \n",
       "149049         (27.6740863, 85.3555818) - The BBQ Station         74.0   \n",
       "149050  (27.6741384, 85.3555846) - Dolakha Sailung Kha...         25.0   \n",
       "149051  (27.6742, 85.3555823) - Dolakhali Hotel and Re...         50.0   \n",
       "149052  (27.6743463, 85.3556147) - Lasso PhyaFulla Kav...        112.0   \n",
       "149053  (27.6743798, 85.3556275) - Saru Shrestha Ramec...         64.0   \n",
       "\n",
       "        Travel Time (s)   Status Error  \n",
       "0                 221.6  Success   NaN  \n",
       "1                 766.9  Success   NaN  \n",
       "2                 662.5  Success   NaN  \n",
       "3                 676.6  Success   NaN  \n",
       "4                 562.7  Success   NaN  \n",
       "...                 ...      ...   ...  \n",
       "149049            586.5  Success   NaN  \n",
       "149050            294.3  Success   NaN  \n",
       "149051            469.8  Success   NaN  \n",
       "149052           1022.7  Success   NaN  \n",
       "149053            724.7  Success   NaN  \n",
       "\n",
       "[149054 rows x 6 columns]"
      ]
     },
     "execution_count": 4,
     "metadata": {},
     "output_type": "execute_result"
    }
   ],
   "source": [
    "# Display the first few rows of simulation results\n",
    "print(\"\\nPreview of simulation results:\")\n",
    "simulation_results"
   ]
  },
  {
   "cell_type": "markdown",
   "metadata": {},
   "source": [
    "## Geospatial and Graph Setup\n",
    "\n",
    "This section initializes the road network graph using OSMnx, loads datasets containing building and landmark information, and defines helper functions, such as a custom heuristic for the A* algorithm."
   ]
  },
  {
   "cell_type": "code",
   "execution_count": 5,
   "metadata": {},
   "outputs": [
    {
     "name": "stdout",
     "output_type": "stream",
     "text": [
      "Synthetic feedback generated. Results saved to './data/synthetic_feedback.csv'.\n"
     ]
    }
   ],
   "source": [
    "import random\n",
    "\n",
    "def generate_synthetic_feedback(simulation_results):\n",
    "    \"\"\"\n",
    "    Generate synthetic feedback based on simulated field testing results.\n",
    "\n",
    "    Args:\n",
    "        simulation_results (pd.DataFrame): Results from simulated field testing.\n",
    "\n",
    "    Returns:\n",
    "        pd.DataFrame: Synthetic feedback with performance metrics.\n",
    "    \"\"\"\n",
    "    feedback = []\n",
    "    for _, row in simulation_results.iterrows():\n",
    "        if row['Path Length'] and row['Travel Time (s)']:\n",
    "            feedback.append({\n",
    "                'Scenario': f\"Building {row['Building']} to Landmark {row['Landmark']}\",\n",
    "                'Feedback': \"Navigation successful and efficient.\",\n",
    "                'Rating': random.randint(8, 10) if row['Travel Time (s)'] < 300 else random.randint(6, 8)\n",
    "            })\n",
    "        else:\n",
    "            feedback.append({\n",
    "                'Scenario': f\"Building {row['Building']} to Landmark {row['Landmark']}\",\n",
    "                'Feedback': \"Navigation failed or suboptimal.\",\n",
    "                'Rating': random.randint(3, 5)\n",
    "            })\n",
    "\n",
    "    return pd.DataFrame(feedback)\n",
    "\n",
    "# Generate synthetic feedback\n",
    "synthetic_feedback = generate_synthetic_feedback(simulation_results)\n",
    "synthetic_feedback.to_csv('./data/synthetic_feedback.csv', index=False)\n",
    "print(\"Synthetic feedback generated. Results saved to './data/synthetic_feedback.csv'.\")\n"
   ]
  },
  {
   "cell_type": "markdown",
   "metadata": {},
   "source": [
    "## Field Testing Simulation\n",
    "\n",
    "The field-testing simulation involves generating random scenarios between buildings and landmarks, computing paths using the A* algorithm, and measuring travel time and path length. Multiprocessing is utilized to speed up the simulations."
   ]
  },
  {
   "cell_type": "code",
   "execution_count": 10,
   "metadata": {},
   "outputs": [],
   "source": [
    "synthetic_feedback.to_csv('synthetic_feedback.csv', index=False)\n"
   ]
  },
  {
   "cell_type": "code",
   "execution_count": 8,
   "metadata": {},
   "outputs": [
    {
     "name": "stdout",
     "output_type": "stream",
     "text": [
      "Performance Metrics: {'Average Travel Time (s)': np.float64(793.9900304170607), 'Average Path Length': np.float64(77.39189014473621), 'Success Rate (%)': 98.59312732298362}\n"
     ]
    }
   ],
   "source": [
    "def calculate_metrics(simulation_results):\n",
    "    \"\"\"\n",
    "    Calculate performance metrics from simulated results.\n",
    "\n",
    "    Args:\n",
    "        simulation_results (pd.DataFrame): Simulated field testing results.\n",
    "\n",
    "    Returns:\n",
    "        dict: Calculated performance metrics.\n",
    "    \"\"\"\n",
    "    successful_paths = simulation_results[simulation_results['Path Length'].notnull()]\n",
    "    avg_travel_time = successful_paths['Travel Time (s)'].mean()\n",
    "    avg_path_length = successful_paths['Path Length'].mean()\n",
    "    success_rate = len(successful_paths) / len(simulation_results) * 100\n",
    "\n",
    "    return {\n",
    "        'Average Travel Time (s)': avg_travel_time,\n",
    "        'Average Path Length': avg_path_length,\n",
    "        'Success Rate (%)': success_rate\n",
    "    }\n",
    "\n",
    "# Calculate metrics\n",
    "metrics = calculate_metrics(simulation_results)\n",
    "print(\"Performance Metrics:\", metrics)\n"
   ]
  },
  {
   "cell_type": "markdown",
   "metadata": {},
   "source": [
    "## Synthetic Feedback Generation\n",
    "\n",
    "Based on the results of the field-testing simulation, synthetic feedback is generated. Each scenario is rated and categorized as successful or suboptimal based on travel time and pathfinding results."
   ]
  },
  {
   "cell_type": "code",
   "execution_count": 7,
   "metadata": {},
   "outputs": [],
   "source": []
  },
  {
   "cell_type": "markdown",
   "metadata": {},
   "source": [
    "## Performance Metrics Calculation\n",
    "\n",
    "Key metrics such as average travel time, average path length, and success rate are calculated from the simulation results. These metrics help evaluate the overall performance of the routing optimization."
   ]
  },
  {
   "cell_type": "markdown",
   "metadata": {},
   "source": [
    "## Conclusion\n",
    "\n",
    "The notebook demonstrates a systematic approach to simulating and evaluating routing performance. By analyzing synthetic feedback and performance metrics, insights can be gained to refine routing strategies. Future extensions could include:\n",
    "\n",
    "- Incorporating real-world feedback for validation.\n",
    "- Exploring other pathfinding algorithms for comparison.\n",
    "- Enhancing the simulation with additional datasets or constraints."
   ]
  },
  {
   "cell_type": "markdown",
   "metadata": {},
   "source": [
    "Performance Metrics: {'Average Travel Time (s)': np.float64(793.9900304170607), 'Average Path Length': np.float64(77.39189014473621), 'Success Rate (%)': 98.59312732298362}"
   ]
  },
  {
   "cell_type": "markdown",
   "metadata": {},
   "source": []
  }
 ],
 "metadata": {
  "kernelspec": {
   "display_name": "venv",
   "language": "python",
   "name": "python3"
  },
  "language_info": {
   "codemirror_mode": {
    "name": "ipython",
    "version": 3
   },
   "file_extension": ".py",
   "mimetype": "text/x-python",
   "name": "python",
   "nbconvert_exporter": "python",
   "pygments_lexer": "ipython3",
   "version": "3.9.18"
  }
 },
 "nbformat": 4,
 "nbformat_minor": 2
}
